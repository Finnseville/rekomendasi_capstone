{
  "nbformat": 4,
  "nbformat_minor": 0,
  "metadata": {
    "colab": {
      "provenance": []
    },
    "kernelspec": {
      "name": "python3",
      "display_name": "Python 3"
    },
    "language_info": {
      "name": "python"
    }
  },
  "cells": [
    {
      "cell_type": "code",
      "source": [
        "!pip install flask pandas\n"
      ],
      "metadata": {
        "colab": {
          "base_uri": "https://localhost:8080/"
        },
        "id": "WQAfEjlY4roG",
        "outputId": "a95dc115-47d4-40e2-c9db-66d4561caaaa"
      },
      "execution_count": 78,
      "outputs": [
        {
          "output_type": "stream",
          "name": "stdout",
          "text": [
            "Requirement already satisfied: flask in /usr/local/lib/python3.11/dist-packages (3.1.0)\n",
            "Requirement already satisfied: pandas in /usr/local/lib/python3.11/dist-packages (2.2.2)\n",
            "Requirement already satisfied: Werkzeug>=3.1 in /usr/local/lib/python3.11/dist-packages (from flask) (3.1.3)\n",
            "Requirement already satisfied: Jinja2>=3.1.2 in /usr/local/lib/python3.11/dist-packages (from flask) (3.1.6)\n",
            "Requirement already satisfied: itsdangerous>=2.2 in /usr/local/lib/python3.11/dist-packages (from flask) (2.2.0)\n",
            "Requirement already satisfied: click>=8.1.3 in /usr/local/lib/python3.11/dist-packages (from flask) (8.1.8)\n",
            "Requirement already satisfied: blinker>=1.9 in /usr/local/lib/python3.11/dist-packages (from flask) (1.9.0)\n",
            "Requirement already satisfied: numpy>=1.23.2 in /usr/local/lib/python3.11/dist-packages (from pandas) (2.0.2)\n",
            "Requirement already satisfied: python-dateutil>=2.8.2 in /usr/local/lib/python3.11/dist-packages (from pandas) (2.8.2)\n",
            "Requirement already satisfied: pytz>=2020.1 in /usr/local/lib/python3.11/dist-packages (from pandas) (2025.1)\n",
            "Requirement already satisfied: tzdata>=2022.7 in /usr/local/lib/python3.11/dist-packages (from pandas) (2025.1)\n",
            "Requirement already satisfied: MarkupSafe>=2.0 in /usr/local/lib/python3.11/dist-packages (from Jinja2>=3.1.2->flask) (3.0.2)\n",
            "Requirement already satisfied: six>=1.5 in /usr/local/lib/python3.11/dist-packages (from python-dateutil>=2.8.2->pandas) (1.17.0)\n"
          ]
        }
      ]
    },
    {
      "cell_type": "code",
      "source": [
        "df = pd.read_csv(\"bandung.csv\")"
      ],
      "metadata": {
        "id": "lWiyCOFhtAuU"
      },
      "execution_count": 72,
      "outputs": []
    },
    {
      "cell_type": "code",
      "source": [
        "df.isna().sum()"
      ],
      "metadata": {
        "colab": {
          "base_uri": "https://localhost:8080/",
          "height": 335
        },
        "id": "mmQhX4ZStAfm",
        "outputId": "6d82e5d8-4a2c-4c4e-ecd4-4249fcbda7a0"
      },
      "execution_count": 64,
      "outputs": [
        {
          "output_type": "execute_result",
          "data": {
            "text/plain": [
              "Nama Tempat Wisata    0\n",
              "Alamat                0\n",
              "Jenis Wisata          0\n",
              "Deskripsi             0\n",
              "Koordinat             0\n",
              "Rating                0\n",
              "Kota                  0\n",
              "Deskripsi Singkat     0\n",
              "dtype: int64"
            ],
            "text/html": [
              "<div>\n",
              "<style scoped>\n",
              "    .dataframe tbody tr th:only-of-type {\n",
              "        vertical-align: middle;\n",
              "    }\n",
              "\n",
              "    .dataframe tbody tr th {\n",
              "        vertical-align: top;\n",
              "    }\n",
              "\n",
              "    .dataframe thead th {\n",
              "        text-align: right;\n",
              "    }\n",
              "</style>\n",
              "<table border=\"1\" class=\"dataframe\">\n",
              "  <thead>\n",
              "    <tr style=\"text-align: right;\">\n",
              "      <th></th>\n",
              "      <th>0</th>\n",
              "    </tr>\n",
              "  </thead>\n",
              "  <tbody>\n",
              "    <tr>\n",
              "      <th>Nama Tempat Wisata</th>\n",
              "      <td>0</td>\n",
              "    </tr>\n",
              "    <tr>\n",
              "      <th>Alamat</th>\n",
              "      <td>0</td>\n",
              "    </tr>\n",
              "    <tr>\n",
              "      <th>Jenis Wisata</th>\n",
              "      <td>0</td>\n",
              "    </tr>\n",
              "    <tr>\n",
              "      <th>Deskripsi</th>\n",
              "      <td>0</td>\n",
              "    </tr>\n",
              "    <tr>\n",
              "      <th>Koordinat</th>\n",
              "      <td>0</td>\n",
              "    </tr>\n",
              "    <tr>\n",
              "      <th>Rating</th>\n",
              "      <td>0</td>\n",
              "    </tr>\n",
              "    <tr>\n",
              "      <th>Kota</th>\n",
              "      <td>0</td>\n",
              "    </tr>\n",
              "    <tr>\n",
              "      <th>Deskripsi Singkat</th>\n",
              "      <td>0</td>\n",
              "    </tr>\n",
              "  </tbody>\n",
              "</table>\n",
              "</div><br><label><b>dtype:</b> int64</label>"
            ]
          },
          "metadata": {},
          "execution_count": 64
        }
      ]
    },
    {
      "cell_type": "code",
      "source": [
        "df.drop_duplicates(inplace=True)"
      ],
      "metadata": {
        "id": "agn0YWHAuS52"
      },
      "execution_count": 75,
      "outputs": []
    },
    {
      "cell_type": "code",
      "source": [
        "print(\"Jumlah duplikasi: \", df.duplicated().sum())"
      ],
      "metadata": {
        "colab": {
          "base_uri": "https://localhost:8080/"
        },
        "id": "qjdLO2Shs_IG",
        "outputId": "dd5395b5-a969-49f0-dfdb-586a75539e29"
      },
      "execution_count": 77,
      "outputs": [
        {
          "output_type": "stream",
          "name": "stdout",
          "text": [
            "Jumlah duplikasi:  0\n"
          ]
        }
      ]
    },
    {
      "cell_type": "code",
      "source": [
        "df.shape"
      ],
      "metadata": {
        "colab": {
          "base_uri": "https://localhost:8080/"
        },
        "id": "lRdrVVnAy23W",
        "outputId": "36f32bff-5c58-4f01-8f37-fcf63c5b8d14"
      },
      "execution_count": 76,
      "outputs": [
        {
          "output_type": "execute_result",
          "data": {
            "text/plain": [
              "(817, 8)"
            ]
          },
          "metadata": {},
          "execution_count": 76
        }
      ]
    },
    {
      "cell_type": "code",
      "source": [
        "bobot_rating = 0.7"
      ],
      "metadata": {
        "id": "3eWpf599yfLt"
      },
      "execution_count": 55,
      "outputs": []
    },
    {
      "cell_type": "code",
      "execution_count": 65,
      "metadata": {
        "id": "r7fYthtdnDja"
      },
      "outputs": [],
      "source": [
        "import pandas as pd\n",
        "\n",
        "def rekomendasi_populer(file_path, top_n=500):\n",
        "\n",
        "    df['skor_popularitas'] = df['Rating'] * bobot_rating\n",
        "\n",
        "    df_sorted = df.sort_values(by='skor_popularitas', ascending=False)\n",
        "     # Mengambil top_n tempat wisata\n",
        "    top_wisata = df_sorted.head(top_n)\n",
        "\n",
        "    return top_wisata[['Nama Tempat Wisata',\"Kota\",'Jenis Wisata', 'Rating', \"Deskripsi Singkat\"]]\n"
      ]
    },
    {
      "cell_type": "code",
      "source": [
        "# Contoh penggunaan\n",
        "file_path = \"bandung.csv\"  # Sesuaikan dengan lokasi file Anda\n",
        "rekomendasi = rekomendasi_populer(file_path)\n",
        "print(rekomendasi)"
      ],
      "metadata": {
        "colab": {
          "base_uri": "https://localhost:8080/"
        },
        "id": "W1Gea09LvIVV",
        "outputId": "8c1dd868-42b3-4fce-850a-4e5d81e6d551"
      },
      "execution_count": 66,
      "outputs": [
        {
          "output_type": "stream",
          "name": "stdout",
          "text": [
            "         Nama Tempat Wisata         Kota   Jenis Wisata  Rating  \\\n",
            "1581        Rammang-Rammang     Makassar           Alam     5.0   \n",
            "1598       Malino Highlands     Makassar           Alam     5.0   \n",
            "67              Kawah Putih      Bandung           Alam     5.0   \n",
            "907           Museum Wasaka  Banjarmasin        Sejarah     5.0   \n",
            "1590  Trans Studio Makassar     Makassar  Taman Hiburan     5.0   \n",
            "...                     ...          ...            ...     ...   \n",
            "1050   Grand Indonesia Mall      Jakarta        Belanja     4.6   \n",
            "971           Pulau Kembang  Banjarmasin           Alam     4.6   \n",
            "601               Tanah Lot         Bali         Religi     4.6   \n",
            "1271     Keraton Yogyakarta   Yogyakarta        Sejarah     4.6   \n",
            "18           Dago Dreampark      Bandung       Rekreasi     4.5   \n",
            "\n",
            "                                      Deskripsi Singkat  \n",
            "1581  Pegunungan karst indah dengan sungai dan gua e...  \n",
            "1598   Dataran tinggi dengan kebun teh dan udara sejuk.  \n",
            "67    Danau kawah vulkanik dengan air berwarna putih...  \n",
            "907   Museum perjuangan rakyat Kalimantan Selatan de...  \n",
            "1590  Taman hiburan indoor terbesar di Indonesia Timur.  \n",
            "...                                                 ...  \n",
            "1050  Pusat perbelanjaan mewah dengan berbagai merek...  \n",
            "971   Pulau kecil di Sungai Barito yang dihuni oleh ...  \n",
            "601   Pura di atas batu karang yang terkenal dengan ...  \n",
            "1271  Istana resmi Kesultanan Yogyakarta dengan nila...  \n",
            "18    Taman rekreasi dengan wahana dan pemandangan a...  \n",
            "\n",
            "[500 rows x 5 columns]\n"
          ]
        }
      ]
    }
  ]
}